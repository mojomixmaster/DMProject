{
 "cells": [
  {
   "cell_type": "markdown",
   "id": "acdc8fd7-d662-4654-ac7f-0ab6a0c821a0",
   "metadata": {},
   "source": [
    "Here is some code where I am messing around with building a convolutional neural network using some examples from the internet. I've writted notes about how this needs to be modified for our analysis."
   ]
  },
  {
   "cell_type": "markdown",
   "id": "20267600-fa6b-4d98-92c5-b5c4672c0440",
   "metadata": {},
   "source": [
    "# Imports"
   ]
  },
  {
   "cell_type": "markdown",
   "id": "2456c6b1-26b8-4765-a173-5af0e693668f",
   "metadata": {},
   "source": [
    "Install tensorflow in your conda environment. Note that you need to have numpy-1.23.1. When I did this, I had to manually uninstall numpy-1.24.3 then install numpy-1.23.1, before installing tensorflow. The tensorflow install failed to install numpy-1.23.1, itself, even though it told me it was successful."
   ]
  },
  {
   "cell_type": "code",
   "execution_count": 77,
   "id": "1d7dce79-4f35-42e9-bcfd-dec4973eec11",
   "metadata": {},
   "outputs": [],
   "source": [
    "import tensorflow as tf\n",
    "from tensorflow import keras\n",
    "import matplotlib.pyplot as plt\n",
    "%matplotlib inline\n",
    "import numpy as np\n",
    "import seaborn as sn"
   ]
  },
  {
   "cell_type": "markdown",
   "id": "7c2f11bc-f70c-4180-8936-7ae043b2d7a8",
   "metadata": {},
   "source": [
    "# Get data"
   ]
  },
  {
   "cell_type": "markdown",
   "id": "f5a2ee6c-b369-480d-9360-ee447b268da5",
   "metadata": {},
   "source": [
    "Download the mnist data base from https://storage.googleapis.com/tensorflow/tf-keras-datasets/mnist.npz then load in the data. For me, keras wasn't able to automatically download the data so I had to go to the url and download the data by hand before loading the data, as shown below."
   ]
  },
  {
   "cell_type": "code",
   "execution_count": 38,
   "id": "389b570b-e5ac-41e0-892f-a6a63a1115df",
   "metadata": {},
   "outputs": [
    {
     "data": {
      "text/plain": [
       "(60000, 10000, (28, 28))"
      ]
     },
     "execution_count": 38,
     "metadata": {},
     "output_type": "execute_result"
    }
   ],
   "source": [
    "# Download the mnist data base from: https://storage.googleapis.com/tensorflow/tf-keras-datasets/mnist.npz\n",
    "# Load data with keras\n",
    "path = '/Users/kcoliver-mallory/LZ/S2o_ML_MSci_students/CNN/mnist.npz'\n",
    "(X_train, y_train) , (X_test, y_test) = keras.datasets.mnist.load_data(path)\n",
    "len(X_train), len(X_test), X_train[0].shape"
   ]
  },
  {
   "cell_type": "markdown",
   "id": "6b0b97c7-0a56-4114-9dc7-bfbee19c8b35",
   "metadata": {},
   "source": [
    "The data are 2D greyscale images of handwritten numbers with intensity in the range 0-255. The data must be rescaled by dividing by 255, then flattened into 1D arrays.\n",
    "\n",
    "In our case, we will be using 1D 'images' and the range will be between 0 and the maximum height reached within any one of the pulses. We don't know what this is ahead of time; you'll have to find the maximum then divide all the images by that number. I think we will also need to pad the arrays to make them the same length, since each pulse will have a variable number of samples. I would start by adding zeroes evenly to the front and back of the array. I'm not sure if the way we do this could introduce some difficulties in learning for the CNN. We should think about this a little bit."
   ]
  },
  {
   "cell_type": "code",
   "execution_count": 48,
   "id": "7ff87db7-aa63-44af-91f1-6800a766a7ea",
   "metadata": {},
   "outputs": [
    {
     "name": "stdout",
     "output_type": "stream",
     "text": [
      "number 5\n"
     ]
    },
    {
     "data": {
      "text/plain": [
       "(<matplotlib.image.AxesImage at 0x7ff453cb4f70>, None)"
      ]
     },
     "execution_count": 48,
     "metadata": {},
     "output_type": "execute_result"
    },
    {
     "data": {
      "image/png": "[encoded data removed]",
      "text/plain": [
       "<Figure size 288x288 with 1 Axes>"
      ]
     },
     "metadata": {
      "needs_background": "light"
     },
     "output_type": "display_data"
    }
   ],
   "source": [
    "plt.matshow(X_train[0],cmap='binary'), print('number %i'%y_train[0])"
   ]
  },
  {
   "cell_type": "code",
   "execution_count": 41,
   "id": "98a18898-be31-42e3-830a-933e97d7e3a7",
   "metadata": {},
   "outputs": [],
   "source": [
    "X_train = X_train/255\n",
    "X_test = X_test/255\n",
    "\n",
    "X_train_flattened = X_train.reshape(len(X_train),28*28)\n",
    "X_test_flattened = X_test.reshape(len(X_test),28*28)\n",
    "\n",
    "X_train_flattened[0]"
   ]
  },
  {
   "cell_type": "markdown",
   "id": "5ca8dca8-1a06-4e8a-9199-46e97408abdf",
   "metadata": {},
   "source": [
    "# Sequential fully-connected neural network with only input and output layers"
   ]
  },
  {
   "cell_type": "markdown",
   "id": "c20275ce-6d79-44e8-837e-db569038046e",
   "metadata": {},
   "source": [
    "This is a sequential fully-connected neural network with only input and output layers. The input shape is (784,) because each 28x28 image has been flattened into a 784x1 tensor. Each element of the tensor is fed into one of the 784 neurons of the input layer. The output shape is 10 because there are 10 different numbers that can be written in the image: 0, 1, 2, 3, 4, 5, 6, 7, 8, or 9. The term \"sequential\" indicates the model is a plain stack of layers, which works in a basic scenario where every layer has a single input tensor and a single output tensor. The term \"fully-connected\" refers to the fact that each one of the 784 input neurons is connected to each one of the 10 output neurons. Generally, the activation function for the output layer is a sigmoid that scales the output of each neuron to within the range 0-1. This makes it appear to be a probability, but I think it's not a probability and we shouldn't call it that.\n",
    "\n",
    "The configuration described above can be adapted to our case. The input shape will be the paded length of the waveforms, the output shape will be 3 for a 0 (signal-like), 1 (gate-like), or 2 (cathode-like) S2.\n",
    "\n",
    "Some resources for learning or remembering what a neural network does are: https://victorzhou.com/blog/intro-to-neural-networks/ (simple description of a neural network) and https://keras.io/guides/sequential_model/ (basic description of how to write the code using keras). You may already have experience with this from your courses - I'm not sure what they teach these days - but it's not a big deal if you have no experience because there are lots of resources online."
   ]
  },
  {
   "cell_type": "code",
   "execution_count": 73,
   "id": "689ede31-4bba-44c2-94d0-4eb14452983b",
   "metadata": {},
   "outputs": [
    {
     "name": "stdout",
     "output_type": "stream",
     "text": [
      "Model: \"sequential_10\"\n",
      "_________________________________________________________________\n",
      " Layer (type)                Output Shape              Param #   \n",
      "=================================================================\n",
      " dense_10 (Dense)            (None, 10)                7850      \n",
      "                                                                 \n",
      "=================================================================\n",
      "Total params: 7850 (30.66 KB)\n",
      "Trainable params: 7850 (30.66 KB)\n",
      "Non-trainable params: 0 (0.00 Byte)\n",
      "_________________________________________________________________\n"
     ]
    }
   ],
   "source": [
    "simpleNN = keras.Sequential([\n",
    "    keras.layers.Dense(10,input_shape=(784,),activation='sigmoid')\n",
    "])\n",
    "\n",
    "simpleNN.summary()"
   ]
  },
  {
   "cell_type": "markdown",
   "id": "54dfa577-af4a-4269-8d74-f46b050166e6",
   "metadata": {},
   "source": [
    "The loss function for multi-class classification should be sparse categorical crossentropy. This will work for our case as well, since we have 3 categories. We could also try a case were we have an output shape of 2  with 0 = signal-like and 1 = gate/cathode-like, using binary crossentropy. Was there any similar issue with the hyperparameters for the multiclass boosted decision tree."
   ]
  },
  {
   "cell_type": "code",
   "execution_count": 74,
   "id": "9dcd3ca2-fc3e-42f4-8c7f-050bd8f9673d",
   "metadata": {},
   "outputs": [],
   "source": [
    "simpleNN.compile(optimizer='adam',\n",
    "                 loss='sparse_categorical_crossentropy',\n",
    "                 metrics=['accuracy'])"
   ]
  },
  {
   "cell_type": "markdown",
   "id": "3b3fcee5-783f-4886-b9a8-cebcce307150",
   "metadata": {},
   "source": [
    "One epoch corresponds to running the data through the neural network, calculating the loss, and reweighting the model. We will have to weight the samples evenly across S2 size, like  we did for the boosted decision tree. I think this is done by setting the paramter sample_weight equal to your sample weights in the fit function, below. We will also have to decide how many epochs to use by plotting accuracy vs epoch, as you've done for the boosted decision tree, and comparing the accuracy of the test and training datasets, which should be the ~same at the end if you aren't overtraining."
   ]
  },
  {
   "cell_type": "code",
   "execution_count": 75,
   "id": "5ad98483-ae9c-4f32-b57c-a2b45e1dab86",
   "metadata": {},
   "outputs": [
    {
     "name": "stdout",
     "output_type": "stream",
     "text": [
      "Epoch 1/5\n",
      "1875/1875 [==============================] - 2s 887us/step - loss: 0.4654 - accuracy: 0.8780\n",
      "Epoch 2/5\n",
      "1875/1875 [==============================] - 2s 884us/step - loss: 0.3041 - accuracy: 0.9153\n",
      "Epoch 3/5\n",
      "1875/1875 [==============================] - 2s 935us/step - loss: 0.2828 - accuracy: 0.9211\n",
      "Epoch 4/5\n",
      "1875/1875 [==============================] - 2s 857us/step - loss: 0.2730 - accuracy: 0.9232\n",
      "Epoch 5/5\n",
      "1875/1875 [==============================] - 2s 845us/step - loss: 0.2664 - accuracy: 0.9265\n"
     ]
    },
    {
     "data": {
      "text/plain": [
       "<keras.src.callbacks.History at 0x7ff450005a90>"
      ]
     },
     "execution_count": 75,
     "metadata": {},
     "output_type": "execute_result"
    }
   ],
   "source": [
    "simpleNN.fit(X_train_flattened,y_train,epochs=5)"
   ]
  },
  {
   "cell_type": "code",
   "execution_count": 78,
   "id": "be80c2fe-bbad-4f12-8ebd-bc0ce02e56e2",
   "metadata": {},
   "outputs": [
    {
     "name": "stdout",
     "output_type": "stream",
     "text": [
      "313/313 [==============================] - 0s 775us/step - loss: 0.2674 - accuracy: 0.9254\n"
     ]
    },
    {
     "data": {
      "text/plain": [
       "[0.2673685848712921, 0.9254000186920166]"
      ]
     },
     "execution_count": 78,
     "metadata": {},
     "output_type": "execute_result"
    }
   ],
   "source": [
    "simpleNN.evaluate(X_test_flattened,y_test)"
   ]
  },
  {
   "cell_type": "markdown",
   "id": "2979ff3e-713b-4d0a-b0e8-fcf933a1048c",
   "metadata": {},
   "source": [
    "It's also nice to plot a confusion matrix to understand what is getting misclassified. This might be good to do making cuts on S2 size, especially if the accuracy vs epoch plot shows that some S2 sizes are improving while others are not."
   ]
  },
  {
   "cell_type": "code",
   "execution_count": 82,
   "id": "90bd8a2f-9749-4775-9b4f-280abfeabaac",
   "metadata": {},
   "outputs": [
    {
     "name": "stdout",
     "output_type": "stream",
     "text": [
      "313/313 [==============================] - 0s 889us/step\n"
     ]
    },
    {
     "data": {
      "text/plain": [
       "(array([3.0100902e-03, 7.2498936e-09, 8.5986052e-03, 9.4604218e-01,\n",
       "        1.1696267e-03, 1.2789373e-01, 2.1874104e-08, 9.9984342e-01,\n",
       "        5.3392462e-02, 6.1778617e-01], dtype=float32),\n",
       " 7)"
      ]
     },
     "execution_count": 82,
     "metadata": {},
     "output_type": "execute_result"
    }
   ],
   "source": [
    "y_predicted = model.predict(X_test_flattened)\n",
    "y_predicted_label = [np.argmax(i) for i in y_predicted]\n",
    "\n",
    "y_predicted[0], y_predicted_label[0]"
   ]
  },
  {
   "cell_type": "code",
   "execution_count": 83,
   "id": "e3d2a346-fe0e-4119-bcfa-584ce43ced9c",
   "metadata": {},
   "outputs": [
    {
     "data": {
      "text/plain": [
       "Text(69.0, 0.5, 'Truth')"
      ]
     },
     "execution_count": 83,
     "metadata": {},
     "output_type": "execute_result"
    },
    {
     "data": {
      "image/png": "[encoded data removed]",
      "text/plain": [
       "<Figure size 720x504 with 2 Axes>"
      ]
     },
     "metadata": {
      "needs_background": "light"
     },
     "output_type": "display_data"
    }
   ],
   "source": [
    "plt.figure(figsize = (10,7))\n",
    "sn.heatmap(tf.math.confusion_matrix(labels=y_test,predictions=y_predicted_label),\n",
    "           annot=True, \n",
    "           fmt='d')\n",
    "plt.xlabel('Predicted')\n",
    "plt.ylabel('Truth')"
   ]
  },
  {
   "cell_type": "markdown",
   "id": "73eb107e-451b-4032-9fb1-c9f69f06b887",
   "metadata": {},
   "source": [
    "# Adding a hidden layer"
   ]
  },
  {
   "cell_type": "markdown",
   "id": "c6268434-9025-4e01-b738-8125297172a7",
   "metadata": {},
   "source": [
    "Adding a hidden layer can increase performance but will take longer to run. We'll have to think about how to optimize the number of hidden layers and the number of neurons in each hidden layer. Below, there is one hidden layer with 100 neurons. The activation function is a rectified linear unit (ReLU), which helps to improve performance. Hidden layers usually have ReLU or Leaky ReLU functions."
   ]
  },
  {
   "cell_type": "code",
   "execution_count": 84,
   "id": "d819f1af-ce44-4ccd-9fdc-e71fba439276",
   "metadata": {},
   "outputs": [
    {
     "name": "stdout",
     "output_type": "stream",
     "text": [
      "Model: \"sequential_11\"\n",
      "_________________________________________________________________\n",
      " Layer (type)                Output Shape              Param #   \n",
      "=================================================================\n",
      " dense_11 (Dense)            (None, 100)               78500     \n",
      "                                                                 \n",
      " dense_12 (Dense)            (None, 10)                1010      \n",
      "                                                                 \n",
      "=================================================================\n",
      "Total params: 79510 (310.59 KB)\n",
      "Trainable params: 79510 (310.59 KB)\n",
      "Non-trainable params: 0 (0.00 Byte)\n",
      "_________________________________________________________________\n"
     ]
    }
   ],
   "source": [
    "hiddenNN = keras.Sequential([\n",
    "    keras.layers.Dense(100,input_shape=(784,),activation='relu'),\n",
    "    keras.layers.Dense(10,activation='sigmoid')\n",
    "])\n",
    "hiddenNN.summary()"
   ]
  },
  {
   "cell_type": "code",
   "execution_count": 85,
   "id": "8b9294a8-c067-4be5-a84c-59cbb1d86e62",
   "metadata": {},
   "outputs": [
    {
     "name": "stdout",
     "output_type": "stream",
     "text": [
      "Epoch 1/5\n",
      "1875/1875 [==============================] - 4s 1ms/step - loss: 0.2717 - accuracy: 0.9224\n",
      "Epoch 2/5\n",
      "1875/1875 [==============================] - 3s 1ms/step - loss: 0.1223 - accuracy: 0.9639\n",
      "Epoch 3/5\n",
      "1875/1875 [==============================] - 2s 1ms/step - loss: 0.0854 - accuracy: 0.9752\n",
      "Epoch 4/5\n",
      "1875/1875 [==============================] - 2s 1ms/step - loss: 0.0657 - accuracy: 0.9800\n",
      "Epoch 5/5\n",
      "1875/1875 [==============================] - 2s 1ms/step - loss: 0.0523 - accuracy: 0.9839\n"
     ]
    },
    {
     "data": {
      "text/plain": [
       "<keras.src.callbacks.History at 0x7ff45506fac0>"
      ]
     },
     "execution_count": 85,
     "metadata": {},
     "output_type": "execute_result"
    }
   ],
   "source": [
    "hiddenNN.compile(optimizer='adam',\n",
    "                 loss='sparse_categorical_crossentropy',\n",
    "                 metrics=['accuracy'])\n",
    "\n",
    "hiddenNN.fit(X_train_flattened,y_train,epochs=5)"
   ]
  },
  {
   "cell_type": "code",
   "execution_count": 87,
   "id": "5a36946e-d314-4cae-9c17-94e4ccbbeba6",
   "metadata": {},
   "outputs": [
    {
     "name": "stdout",
     "output_type": "stream",
     "text": [
      "313/313 [==============================] - 0s 925us/step - loss: 0.0847 - accuracy: 0.9734\n"
     ]
    },
    {
     "data": {
      "text/plain": [
       "[0.08470626920461655, 0.9733999967575073]"
      ]
     },
     "execution_count": 87,
     "metadata": {},
     "output_type": "execute_result"
    }
   ],
   "source": [
    "hiddenNN.evaluate(X_test_flattened,y_test)"
   ]
  },
  {
   "cell_type": "markdown",
   "id": "1ec40ac1-2fc4-4656-9c16-4d21e8528752",
   "metadata": {},
   "source": [
    "# Convolutional neural network"
   ]
  },
  {
   "cell_type": "markdown",
   "id": "77d588c1-d229-4e14-b537-421a0df293f7",
   "metadata": {},
   "source": [
    "Convolutional layers should improve the accuracy further but will even longer to run. You should try to understand what filters, pooling, and kernal size are. These are the hyperparameters you need to mess around with, as well as the number of convolutional layers. The filters will be used to look for certain features of the S2 waveforms so I think the kernal size should be decided based on the size of features you are trying to select. Here is a descriptive link: https://www.simplilearn.com/tutorials/deep-learning-tutorial/convolutional-neural-network#:~:text=A%20convolutional%20neural%20network%20is,classify%20objects%20in%20an%20image. This made my computer start to overheat, hence the desire to use a gpu, but maybe we are okay."
   ]
  },
  {
   "cell_type": "code",
   "execution_count": 91,
   "id": "da2d1b4a-208f-4ffc-af46-d62ea20c5632",
   "metadata": {},
   "outputs": [],
   "source": [
    "convoNN = keras.Sequential([\n",
    "    keras.layers.Conv2D(filters=28,kernel_size=(3,3),activation='relu', input_shape=(28,28,1)),\n",
    "    keras.layers.MaxPooling2D((2, 2)),\n",
    "    \n",
    "    keras.layers.Conv2D(filters=64,kernel_size=(3, 3),activation='relu'),\n",
    "    keras.layers.MaxPooling2D((2, 2)),\n",
    "    \n",
    "    keras.layers.Flatten(),\n",
    "    keras.layers.Dense(64, activation='relu'),\n",
    "    keras.layers.Dense(10, activation='softmax')\n",
    "])"
   ]
  },
  {
   "cell_type": "code",
   "execution_count": 92,
   "id": "f1bf8540-3f15-48d9-a649-be7804e567c5",
   "metadata": {},
   "outputs": [],
   "source": [
    "convoNN.compile(optimizer='adam',\n",
    "                 loss='sparse_categorical_crossentropy',\n",
    "                 metrics=['accuracy'])"
   ]
  },
  {
   "cell_type": "code",
   "execution_count": 93,
   "id": "040b4dad-805d-4b93-b8f7-1097050fbd05",
   "metadata": {},
   "outputs": [
    {
     "name": "stdout",
     "output_type": "stream",
     "text": [
      "Epoch 1/5\n",
      "1875/1875 [==============================] - 26s 11ms/step - loss: 0.1461 - accuracy: 0.9563\n",
      "Epoch 2/5\n",
      "1875/1875 [==============================] - 22s 12ms/step - loss: 0.0502 - accuracy: 0.9845\n",
      "Epoch 3/5\n",
      "1875/1875 [==============================] - 23s 12ms/step - loss: 0.0353 - accuracy: 0.9888\n",
      "Epoch 4/5\n",
      "1875/1875 [==============================] - 22s 12ms/step - loss: 0.0257 - accuracy: 0.9918\n",
      "Epoch 5/5\n",
      "1875/1875 [==============================] - 22s 12ms/step - loss: 0.0207 - accuracy: 0.9933\n"
     ]
    },
    {
     "data": {
      "text/plain": [
       "<keras.src.callbacks.History at 0x7ff454ecfb20>"
      ]
     },
     "execution_count": 93,
     "metadata": {},
     "output_type": "execute_result"
    }
   ],
   "source": [
    "convoNN.fit(X_train, y_train, epochs=5)"
   ]
  },
  {
   "cell_type": "code",
   "execution_count": null,
   "id": "ec8a8eb5-69c9-4d4f-8546-e9f849a64fba",
   "metadata": {},
   "outputs": [],
   "source": [
    "convoNN.evaluate(X_test_flattened,y_test)"
   ]
  }
 ],
 "metadata": {
  "kernelspec": {
   "display_name": "Python 3",
   "language": "python",
   "name": "python3"
  },
  "language_info": {
   "codemirror_mode": {
    "name": "ipython",
    "version": 3
   },
   "file_extension": ".py",
   "mimetype": "text/x-python",
   "name": "python",
   "nbconvert_exporter": "python",
   "pygments_lexer": "ipython3",
   "version": "3.8.0"
  }
 },
 "nbformat": 4,
 "nbformat_minor": 5
}
